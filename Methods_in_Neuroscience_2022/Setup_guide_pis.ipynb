{
 "cells": [
  {
   "cell_type": "code",
   "execution_count": null,
   "id": "23200396",
   "metadata": {},
   "outputs": [],
   "source": [
    "wget http://repo.continuum.io/miniconda/Miniconda3-latest-Linux-armv7l.sh\n",
    "\n",
    "sudo md5sum Miniconda3-latest-Linux-armv7l.sh\n",
    "\n",
    "sudo /bin/bash Miniconda3-latest-Linux-armv7l.sh\n",
    "\n",
    "/home/pi/miniconda3\n",
    "\n",
    "sudo nano /home/pi/.bashrc\n",
    "\n",
    "export PATH=\"/home/pi/miniconda3/bin:$PATH\"\n",
    "\n",
    "Ctrl-O  and Ctrl-X\n",
    "\n",
    "sudo reboot\n",
    "\n",
    "conda\n",
    "\n",
    "sudo chown -R pi /home/pi/miniconda3\n",
    "\n",
    "conda config --add channels rpi\n",
    "\n",
    "conda install python=3.6\n",
    "\n",
    "source activate\n",
    "\n",
    "conda install -c conda-forge jupyterlab\n",
    "\n",
    "conda install -c conda-forge nb_conda_kernels\n",
    "\n",
    "conda create --name MethodsCourse\n",
    "\n",
    "conda activate MethodsCourse\n",
    "\n",
    "conda install ipykernel\n",
    "\n",
    "\n",
    "conda install -c anaconda scikit-image\n",
    "\n",
    "conda install -c conda-forge imageio\n",
    "\n",
    "which pip\n",
    "\n",
    "/home/pi/miniconda3/envs/MethodsCourse/bin/pip install imageio-ffmpeg\n"
   ]
  }
 ],
 "metadata": {
  "kernelspec": {
   "display_name": "Python [conda env:MethodsCourse]",
   "language": "python",
   "name": "conda-env-MethodsCourse-py"
  },
  "language_info": {
   "codemirror_mode": {
    "name": "ipython",
    "version": 3
   },
   "file_extension": ".py",
   "mimetype": "text/x-python",
   "name": "python",
   "nbconvert_exporter": "python",
   "pygments_lexer": "ipython3",
   "version": "3.6.6"
  }
 },
 "nbformat": 4,
 "nbformat_minor": 5
}
