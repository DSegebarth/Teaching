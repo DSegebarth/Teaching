{
 "cells": [
  {
   "cell_type": "markdown",
   "id": "9137c401",
   "metadata": {},
   "source": [
    "# Introduction to python programming to control and analyze an optogenetic behavioral experiment"
   ]
  },
  {
   "cell_type": "markdown",
   "id": "294b33bb",
   "metadata": {},
   "source": [
    "## 1) Python 101:"
   ]
  },
  {
   "cell_type": "markdown",
   "id": "3703d400",
   "metadata": {},
   "source": [
    "#### For good measure, let's start how you're always supposed to start in a new coding environment or programming language:"
   ]
  },
  {
   "cell_type": "code",
   "execution_count": 1,
   "id": "6bdf9cb5",
   "metadata": {},
   "outputs": [
    {
     "name": "stdout",
     "output_type": "stream",
     "text": [
      "Hello world\n"
     ]
    }
   ],
   "source": [
    "print('Hello world')"
   ]
  },
  {
   "cell_type": "markdown",
   "id": "8b356947",
   "metadata": {},
   "source": [
    "#### Store *things* in variables:"
   ]
  },
  {
   "cell_type": "code",
   "execution_count": 2,
   "id": "51f0073c",
   "metadata": {},
   "outputs": [],
   "source": [
    "variable = 'string'"
   ]
  },
  {
   "cell_type": "code",
   "execution_count": 3,
   "id": "d2688ce1",
   "metadata": {},
   "outputs": [
    {
     "data": {
      "text/plain": [
       "'string'"
      ]
     },
     "execution_count": 3,
     "metadata": {},
     "output_type": "execute_result"
    }
   ],
   "source": [
    "variable"
   ]
  },
  {
   "cell_type": "code",
   "execution_count": 4,
   "id": "382b077a",
   "metadata": {},
   "outputs": [
    {
     "data": {
      "text/plain": [
       "3"
      ]
     },
     "execution_count": 4,
     "metadata": {},
     "output_type": "execute_result"
    }
   ],
   "source": [
    "a = 1\n",
    "b = 2\n",
    "\n",
    "c = a + b\n",
    "c"
   ]
  },
  {
   "cell_type": "code",
   "execution_count": 5,
   "id": "cab2a4c1",
   "metadata": {},
   "outputs": [
    {
     "data": {
      "text/plain": [
       "'Neuroscience'"
      ]
     },
     "execution_count": 5,
     "metadata": {},
     "output_type": "execute_result"
    }
   ],
   "source": [
    "a = 'Neuro'\n",
    "b = 'science'\n",
    "\n",
    "c = a + b\n",
    "c"
   ]
  },
  {
   "cell_type": "code",
   "execution_count": 6,
   "id": "252fe00b",
   "metadata": {},
   "outputs": [
    {
     "data": {
      "text/plain": [
       "str"
      ]
     },
     "execution_count": 6,
     "metadata": {},
     "output_type": "execute_result"
    }
   ],
   "source": [
    "a = 'a string'\n",
    "\n",
    "type(a)"
   ]
  },
  {
   "cell_type": "code",
   "execution_count": 10,
   "id": "2fdb51a6",
   "metadata": {},
   "outputs": [],
   "source": [
    "e"
   ]
  },
  {
   "cell_type": "code",
   "execution_count": 11,
   "id": "8dac754c",
   "metadata": {},
   "outputs": [
    {
     "name": "stdout",
     "output_type": "stream",
     "text": [
      "<class 'int'>\n",
      "<class 'float'>\n",
      "<class 'bool'>\n",
      "<class 'NoneType'>\n"
     ]
    }
   ],
   "source": [
    "b = 1\n",
    "c = 1.0\n",
    "d = False\n",
    "e = None\n",
    "\n",
    "print(type(b))\n",
    "print(type(c))\n",
    "print(type(d))\n",
    "print(type(e))"
   ]
  },
  {
   "cell_type": "code",
   "execution_count": 12,
   "id": "4b2b00b0",
   "metadata": {},
   "outputs": [
    {
     "name": "stdout",
     "output_type": "stream",
     "text": [
      "This is the type of b:  <class 'int'>\n"
     ]
    }
   ],
   "source": [
    "print('This is the type of b: ', type(b))"
   ]
  },
  {
   "cell_type": "markdown",
   "id": "15885858",
   "metadata": {},
   "source": [
    "#### These are the very basic and most fundamental types: `int`, `float`, `str`, and `bool` ( and `None`)\n",
    "\n",
    "#### However, there are endless other types - since Python allows you to create your own types as well (object oriented programming)\n",
    "\n",
    "#### Let's have a look at some other, very fundamental types in python: `list`, `tuple`, and `dict`:"
   ]
  },
  {
   "cell_type": "code",
   "execution_count": 13,
   "id": "6778f24e",
   "metadata": {},
   "outputs": [],
   "source": [
    "a_list = ['a', 'list', 'is', 'nothing', 'but', 'a', 'collection', 'of', 'stuff', 'separated', 'by', 'commas', 'and', 'enclosed', 'in', 'square brackets']"
   ]
  },
  {
   "cell_type": "code",
   "execution_count": 14,
   "id": "02631ded",
   "metadata": {},
   "outputs": [
    {
     "data": {
      "text/plain": [
       "['a',\n",
       " 'list',\n",
       " 'is',\n",
       " 'nothing',\n",
       " 'but',\n",
       " 'a',\n",
       " 'collection',\n",
       " 'of',\n",
       " 'stuff',\n",
       " 'separated',\n",
       " 'by',\n",
       " 'commas',\n",
       " 'and',\n",
       " 'enclosed',\n",
       " 'in',\n",
       " 'square brackets']"
      ]
     },
     "execution_count": 14,
     "metadata": {},
     "output_type": "execute_result"
    }
   ],
   "source": [
    "a_list"
   ]
  },
  {
   "cell_type": "markdown",
   "id": "9997d308",
   "metadata": {},
   "source": [
    "#### The cool thing about lists is, that you can store whatever you like in them and retrieve element by element:\n",
    "\n",
    "(By the way: Python **always** starts counting at 0!)"
   ]
  },
  {
   "cell_type": "code",
   "execution_count": 15,
   "id": "39318d37",
   "metadata": {},
   "outputs": [
    {
     "data": {
      "text/plain": [
       "'a'"
      ]
     },
     "execution_count": 15,
     "metadata": {},
     "output_type": "execute_result"
    }
   ],
   "source": [
    "a_list[0]"
   ]
  },
  {
   "cell_type": "code",
   "execution_count": 16,
   "id": "932cf394",
   "metadata": {},
   "outputs": [
    {
     "data": {
      "text/plain": [
       "'list'"
      ]
     },
     "execution_count": 16,
     "metadata": {},
     "output_type": "execute_result"
    }
   ],
   "source": [
    "a_list[1]"
   ]
  },
  {
   "cell_type": "code",
   "execution_count": 18,
   "id": "a313b087",
   "metadata": {},
   "outputs": [
    {
     "data": {
      "text/plain": [
       "'in'"
      ]
     },
     "execution_count": 18,
     "metadata": {},
     "output_type": "execute_result"
    }
   ],
   "source": [
    "a_list[-2]"
   ]
  },
  {
   "cell_type": "code",
   "execution_count": 20,
   "id": "5754ab7c",
   "metadata": {},
   "outputs": [
    {
     "data": {
      "text/plain": [
       "'a'"
      ]
     },
     "execution_count": 20,
     "metadata": {},
     "output_type": "execute_result"
    }
   ],
   "source": [
    "a_list[5]"
   ]
  },
  {
   "cell_type": "code",
   "execution_count": 22,
   "id": "8dbeefcf",
   "metadata": {},
   "outputs": [
    {
     "data": {
      "text/plain": [
       "['a', 'list', 'is', 'nothing', 'but']"
      ]
     },
     "execution_count": 22,
     "metadata": {},
     "output_type": "execute_result"
    }
   ],
   "source": [
    "a_list[0:5]"
   ]
  },
  {
   "cell_type": "code",
   "execution_count": 23,
   "id": "be8c743e",
   "metadata": {},
   "outputs": [
    {
     "data": {
      "text/plain": [
       "'a'"
      ]
     },
     "execution_count": 23,
     "metadata": {},
     "output_type": "execute_result"
    }
   ],
   "source": [
    "a_list[0]"
   ]
  },
  {
   "cell_type": "code",
   "execution_count": 24,
   "id": "99b65801",
   "metadata": {},
   "outputs": [
    {
     "data": {
      "text/plain": [
       "17"
      ]
     },
     "execution_count": 24,
     "metadata": {},
     "output_type": "execute_result"
    }
   ],
   "source": [
    "a_list[0] = 17\n",
    "a_list[0]"
   ]
  },
  {
   "cell_type": "markdown",
   "id": "e387432e",
   "metadata": {},
   "source": [
    "Between `lists` and `tuples` there is one crucial difference: `tuples` are immutuable - so you can't change its elements like you can with lists:"
   ]
  },
  {
   "cell_type": "code",
   "execution_count": 26,
   "id": "7293efcd",
   "metadata": {},
   "outputs": [],
   "source": [
    "a_tuple = (1, 3, 'brain', ['we_can_also_add_lists_as_elements', 8, 9])"
   ]
  },
  {
   "cell_type": "code",
   "execution_count": 27,
   "id": "5726dca1",
   "metadata": {},
   "outputs": [
    {
     "data": {
      "text/plain": [
       "1"
      ]
     },
     "execution_count": 27,
     "metadata": {},
     "output_type": "execute_result"
    }
   ],
   "source": [
    "a_tuple[0]"
   ]
  },
  {
   "cell_type": "code",
   "execution_count": 28,
   "id": "06bba8c9",
   "metadata": {},
   "outputs": [
    {
     "data": {
      "text/plain": [
       "['we_can_also_add_lists_as_elements', 8, 9]"
      ]
     },
     "execution_count": 28,
     "metadata": {},
     "output_type": "execute_result"
    }
   ],
   "source": [
    "a_tuple[3]"
   ]
  },
  {
   "cell_type": "markdown",
   "id": "3c706488",
   "metadata": {},
   "source": [
    "Since this is a list, we can continue accessing these elements: "
   ]
  },
  {
   "cell_type": "code",
   "execution_count": 29,
   "id": "d0fc35f4",
   "metadata": {},
   "outputs": [
    {
     "data": {
      "text/plain": [
       "'we_can_also_add_lists_as_elements'"
      ]
     },
     "execution_count": 29,
     "metadata": {},
     "output_type": "execute_result"
    }
   ],
   "source": [
    "a_tuple[3][0]"
   ]
  },
  {
   "cell_type": "code",
   "execution_count": 30,
   "id": "19c9ce20",
   "metadata": {},
   "outputs": [
    {
     "ename": "TypeError",
     "evalue": "'tuple' object does not support item assignment",
     "output_type": "error",
     "traceback": [
      "\u001b[0;31m-------------------------------------------------------------------------\u001b[0m",
      "\u001b[0;31mTypeError\u001b[0m                               Traceback (most recent call last)",
      "\u001b[0;32m<ipython-input-30-5286c726d149>\u001b[0m in \u001b[0;36m<module>\u001b[0;34m()\u001b[0m\n\u001b[0;32m----> 1\u001b[0;31m \u001b[0ma_tuple\u001b[0m\u001b[0;34m[\u001b[0m\u001b[0;36m0\u001b[0m\u001b[0;34m]\u001b[0m \u001b[0;34m=\u001b[0m \u001b[0;34m'lets_try_to_change_it'\u001b[0m\u001b[0;34m\u001b[0m\u001b[0m\n\u001b[0m",
      "\u001b[0;31mTypeError\u001b[0m: 'tuple' object does not support item assignment"
     ]
    }
   ],
   "source": [
    "a_tuple[0] = 'lets_try_to_change_it'"
   ]
  },
  {
   "cell_type": "markdown",
   "id": "a2b5be9c",
   "metadata": {},
   "source": [
    "Congratulations! This was your first Error message! :-)\n",
    "\n",
    "You better get used to seeing these messages, since it is absolutely normal - and probably even required - to run into errors when you are writing code. "
   ]
  },
  {
   "cell_type": "code",
   "execution_count": 31,
   "id": "caf8e1af",
   "metadata": {},
   "outputs": [],
   "source": [
    "a_dict = {'dog': 'hund', \n",
    "         'cat': 'katze',\n",
    "         1: ['a', 'b'],\n",
    "         'variable': a_tuple}"
   ]
  },
  {
   "cell_type": "code",
   "execution_count": 32,
   "id": "35f8e118",
   "metadata": {},
   "outputs": [
    {
     "ename": "KeyError",
     "evalue": "0",
     "output_type": "error",
     "traceback": [
      "\u001b[0;31m-------------------------------------------------------------------------\u001b[0m",
      "\u001b[0;31mKeyError\u001b[0m                                Traceback (most recent call last)",
      "\u001b[0;32m<ipython-input-32-95985d93fa39>\u001b[0m in \u001b[0;36m<module>\u001b[0;34m()\u001b[0m\n\u001b[0;32m----> 1\u001b[0;31m \u001b[0ma_dict\u001b[0m\u001b[0;34m[\u001b[0m\u001b[0;36m0\u001b[0m\u001b[0;34m]\u001b[0m\u001b[0;34m\u001b[0m\u001b[0m\n\u001b[0m",
      "\u001b[0;31mKeyError\u001b[0m: 0"
     ]
    }
   ],
   "source": [
    "a_dict[0]"
   ]
  },
  {
   "cell_type": "markdown",
   "id": "e3c64885",
   "metadata": {},
   "source": [
    "Dictionaries work a little different compared to lists and tuples, since you can't use an elements index to retrieve it. Instead, you are always using the `key` to access the corresponding stored `value`:"
   ]
  },
  {
   "cell_type": "code",
   "execution_count": 35,
   "id": "4944d77e",
   "metadata": {},
   "outputs": [
    {
     "data": {
      "text/plain": [
       "(1, 3, 'brain', ['we_can_also_add_lists_as_elements', 8, 9])"
      ]
     },
     "execution_count": 35,
     "metadata": {},
     "output_type": "execute_result"
    }
   ],
   "source": [
    "a_dict['variable']"
   ]
  },
  {
   "cell_type": "code",
   "execution_count": 36,
   "id": "cd5d599b",
   "metadata": {},
   "outputs": [
    {
     "data": {
      "text/plain": [
       "{'dog': 'hund',\n",
       " 'cat': 'katze',\n",
       " 1: ['a', 'b'],\n",
       " 'variable': (1, 3, 'brain', ['we_can_also_add_lists_as_elements', 8, 9])}"
      ]
     },
     "execution_count": 36,
     "metadata": {},
     "output_type": "execute_result"
    }
   ],
   "source": [
    "a_dict"
   ]
  },
  {
   "cell_type": "markdown",
   "id": "a93989da",
   "metadata": {},
   "source": [
    "It really depends on your personal preference and also the context in which you're currently working to decide on using a list, tuple, or a dictionary. A good example for when you usually use lists is when you simply want to iterate over a certain batch of elements:"
   ]
  },
  {
   "cell_type": "code",
   "execution_count": 42,
   "id": "4a9f078a",
   "metadata": {},
   "outputs": [
    {
     "name": "stdout",
     "output_type": "stream",
     "text": [
      "17\n",
      "list\n",
      "is\n",
      "nothing\n",
      "but\n"
     ]
    }
   ],
   "source": [
    "for elem in a_list[:5]:\n",
    "    print(elem)"
   ]
  },
  {
   "cell_type": "code",
   "execution_count": 45,
   "id": "c891dda3",
   "metadata": {},
   "outputs": [
    {
     "name": "stdout",
     "output_type": "stream",
     "text": [
      "0\n",
      "1\n",
      "2\n"
     ]
    }
   ],
   "source": [
    "for i in range(3):\n",
    "    print(i)"
   ]
  },
  {
   "cell_type": "markdown",
   "id": "7d35397b",
   "metadata": {},
   "source": [
    "On the other hand, dictionaries are usually more usefull if you would like to store certain things which you want to specifically retrieve, without iterating over the entire dictionary. This is of course also possible with a list, but it's usually much easier to remember a specific key than the index of the element you'd like to retrieve again (not to mention the readability for others):"
   ]
  },
  {
   "cell_type": "code",
   "execution_count": 44,
   "id": "cf5dd1e3",
   "metadata": {},
   "outputs": [
    {
     "name": "stdout",
     "output_type": "stream",
     "text": [
      "My name is Snoopy, I am 8 years old and a dog.\n",
      "My name is Garfield, I am 13 years old and a cat.\n",
      "My name is Tweety, I am 3 years old and a bird.\n"
     ]
    }
   ],
   "source": [
    "names = ['Snoopy', 'Garfield', 'Tweety']\n",
    "ages = [8, 13, 3]\n",
    "species = ['dog', 'cat', 'bird']\n",
    "\n",
    "animals = {'names': names, \n",
    "           'age': ages,\n",
    "           'species': species}\n",
    "\n",
    "for i in range(3):\n",
    "    print(f\"My name is {animals['names'][i]}, I am {animals['age'][i]} years old and a {animals['species'][i]}.\")"
   ]
  },
  {
   "cell_type": "code",
   "execution_count": 46,
   "id": "a765d099",
   "metadata": {},
   "outputs": [
    {
     "name": "stdout",
     "output_type": "stream",
     "text": [
      "My name is Snoopy, I am 8 years old and a dog.\n",
      "My name is Garfield, I am 13 years old and a cat.\n",
      "My name is Tweety, I am 3 years old and a bird.\n"
     ]
    }
   ],
   "source": [
    "animals = [species, ages, names]\n",
    "\n",
    "for i in range(3):\n",
    "    print(f\"My name is {animals[2][i]}, I am {animals[1][i]} years old and a {animals[0][i]}.\")"
   ]
  },
  {
   "cell_type": "markdown",
   "id": "f6df8c83",
   "metadata": {},
   "source": [
    "#### Okay, before we can get started, there are two more things that we need:\n",
    "    1) write our own functions, i.e. chunks of code that fullfills a certain (ideally very narrowly) defined task\n",
    "    2) import usefull code that others provide for free to us"
   ]
  },
  {
   "cell_type": "code",
   "execution_count": 64,
   "id": "1903c233",
   "metadata": {},
   "outputs": [],
   "source": [
    "# By using these hashtags, you can also write comments right in your code sections\n",
    "\n",
    "def add_two_numbers(a, b):\n",
    "    result = a + b\n",
    "    return result, a, b"
   ]
  },
  {
   "cell_type": "code",
   "execution_count": 56,
   "id": "19e11d58",
   "metadata": {},
   "outputs": [],
   "source": [
    "result, a, b = add_two_numbers(a=38, b=19990)"
   ]
  },
  {
   "cell_type": "code",
   "execution_count": 76,
   "id": "40ad3de8",
   "metadata": {},
   "outputs": [],
   "source": [
    "a = 'thing'\n",
    "b = 2"
   ]
  },
  {
   "cell_type": "code",
   "execution_count": 77,
   "id": "4d57bed2",
   "metadata": {},
   "outputs": [
    {
     "ename": "TypeError",
     "evalue": "'>' not supported between instances of 'str' and 'int'",
     "output_type": "error",
     "traceback": [
      "\u001b[0;31m-------------------------------------------------------------------------\u001b[0m",
      "\u001b[0;31mTypeError\u001b[0m                               Traceback (most recent call last)",
      "\u001b[0;32m<ipython-input-77-af611b0d740c>\u001b[0m in \u001b[0;36m<module>\u001b[0;34m()\u001b[0m\n\u001b[0;32m----> 1\u001b[0;31m \u001b[0;32mif\u001b[0m \u001b[0ma\u001b[0m\u001b[0;34m>\u001b[0m\u001b[0mb\u001b[0m\u001b[0;34m:\u001b[0m\u001b[0;34m\u001b[0m\u001b[0m\n\u001b[0m\u001b[1;32m      2\u001b[0m     \u001b[0mprint\u001b[0m\u001b[0;34m(\u001b[0m\u001b[0;34m'a is larger than b'\u001b[0m\u001b[0;34m)\u001b[0m\u001b[0;34m\u001b[0m\u001b[0m\n\u001b[1;32m      3\u001b[0m \u001b[0;32melif\u001b[0m \u001b[0ma\u001b[0m \u001b[0;34m==\u001b[0m \u001b[0mb\u001b[0m\u001b[0;34m:\u001b[0m\u001b[0;34m\u001b[0m\u001b[0m\n\u001b[1;32m      4\u001b[0m     \u001b[0mprint\u001b[0m\u001b[0;34m(\u001b[0m\u001b[0;34m' a equals b'\u001b[0m\u001b[0;34m)\u001b[0m\u001b[0;34m\u001b[0m\u001b[0m\n\u001b[1;32m      5\u001b[0m \u001b[0;32melse\u001b[0m\u001b[0;34m:\u001b[0m\u001b[0;34m\u001b[0m\u001b[0m\n",
      "\u001b[0;31mTypeError\u001b[0m: '>' not supported between instances of 'str' and 'int'"
     ]
    }
   ],
   "source": [
    "if a>b:\n",
    "    print('a is larger than b')\n",
    "elif a == b:\n",
    "    print(' a equals b')\n",
    "else:\n",
    "    print('a is smaller than b')"
   ]
  },
  {
   "cell_type": "markdown",
   "id": "1cfbf65a",
   "metadata": {},
   "source": [
    "`Type hinting` is nothing that changes anything what your code does, but again helps to improve the readability of your code and helps you and others to use it properly"
   ]
  },
  {
   "cell_type": "code",
   "execution_count": 81,
   "id": "e59d177e",
   "metadata": {},
   "outputs": [],
   "source": [
    "def add_two_numbers_typehinted(a: int, b: int) -> int:\n",
    "    \n",
    "    if type(a) != int:\n",
    "        raise TypeError\n",
    "    result = a + b\n",
    "    return result"
   ]
  },
  {
   "cell_type": "code",
   "execution_count": 82,
   "id": "a8323d50",
   "metadata": {},
   "outputs": [
    {
     "data": {
      "text/plain": [
       "20028"
      ]
     },
     "execution_count": 82,
     "metadata": {},
     "output_type": "execute_result"
    }
   ],
   "source": [
    "add_two_numbers_typehinted(a=38, b=19990)"
   ]
  },
  {
   "cell_type": "code",
   "execution_count": 83,
   "id": "4e072307",
   "metadata": {},
   "outputs": [
    {
     "ename": "TypeError",
     "evalue": "",
     "output_type": "error",
     "traceback": [
      "\u001b[0;31m-------------------------------------------------------------------------\u001b[0m",
      "\u001b[0;31mTypeError\u001b[0m                               Traceback (most recent call last)",
      "\u001b[0;32m<ipython-input-83-a95d564baab7>\u001b[0m in \u001b[0;36m<module>\u001b[0;34m()\u001b[0m\n\u001b[0;32m----> 1\u001b[0;31m \u001b[0madd_two_numbers_typehinted\u001b[0m\u001b[0;34m(\u001b[0m\u001b[0ma\u001b[0m\u001b[0;34m=\u001b[0m\u001b[0;34m'Does this'\u001b[0m\u001b[0;34m,\u001b[0m \u001b[0mb\u001b[0m\u001b[0;34m=\u001b[0m\u001b[0;34m' work?'\u001b[0m\u001b[0;34m)\u001b[0m\u001b[0;34m\u001b[0m\u001b[0m\n\u001b[0m",
      "\u001b[0;32m<ipython-input-81-8a8c1d424ffc>\u001b[0m in \u001b[0;36madd_two_numbers_typehinted\u001b[0;34m(a, b)\u001b[0m\n\u001b[1;32m      2\u001b[0m \u001b[0;34m\u001b[0m\u001b[0m\n\u001b[1;32m      3\u001b[0m     \u001b[0;32mif\u001b[0m \u001b[0mtype\u001b[0m\u001b[0;34m(\u001b[0m\u001b[0ma\u001b[0m\u001b[0;34m)\u001b[0m \u001b[0;34m!=\u001b[0m \u001b[0mint\u001b[0m\u001b[0;34m:\u001b[0m\u001b[0;34m\u001b[0m\u001b[0m\n\u001b[0;32m----> 4\u001b[0;31m         \u001b[0;32mraise\u001b[0m \u001b[0mTypeError\u001b[0m\u001b[0;34m\u001b[0m\u001b[0m\n\u001b[0m\u001b[1;32m      5\u001b[0m     \u001b[0mresult\u001b[0m \u001b[0;34m=\u001b[0m \u001b[0ma\u001b[0m \u001b[0;34m+\u001b[0m \u001b[0mb\u001b[0m\u001b[0;34m\u001b[0m\u001b[0m\n\u001b[1;32m      6\u001b[0m     \u001b[0;32mreturn\u001b[0m \u001b[0mresult\u001b[0m\u001b[0;34m\u001b[0m\u001b[0m\n",
      "\u001b[0;31mTypeError\u001b[0m: "
     ]
    }
   ],
   "source": [
    "add_two_numbers_typehinted(a='Does this', b=' work?')"
   ]
  },
  {
   "cell_type": "code",
   "execution_count": 85,
   "id": "a60320e9",
   "metadata": {},
   "outputs": [],
   "source": [
    "import matplotlib.pyplot as plt"
   ]
  },
  {
   "cell_type": "code",
   "execution_count": 86,
   "id": "100ae571",
   "metadata": {},
   "outputs": [
    {
     "data": {
      "image/png": "[encoded data removed]",
      "text/plain": [
       "<matplotlib.figure.Figure at 0xa9fbb630>"
      ]
     },
     "metadata": {
      "needs_background": "light"
     },
     "output_type": "display_data"
    }
   ],
   "source": [
    "plt.plot([0, 1, 2, 3, 4], [0, 1, 2, 3, 4])\n",
    "plt.show()"
   ]
  },
  {
   "cell_type": "code",
   "execution_count": 87,
   "id": "7e99ba7b",
   "metadata": {},
   "outputs": [
    {
     "data": {
      "image/png": "[encoded data removed]",
      "text/plain": [
       "<matplotlib.figure.Figure at 0xa8f37db0>"
      ]
     },
     "metadata": {
      "needs_background": "light"
     },
     "output_type": "display_data"
    }
   ],
   "source": [
    "plt.scatter([0, 1, 2, 3, 4], [4, 3, 2, 1, 0])\n",
    "plt.show()"
   ]
  },
  {
   "cell_type": "markdown",
   "id": "3bdbcea4",
   "metadata": {},
   "source": [
    "## Okay - that's it with the basics. Let's get started with our experimental data!"
   ]
  }
 ],
 "metadata": {
  "kernelspec": {
   "display_name": "Python [conda env:MethodsCourse]",
   "language": "python",
   "name": "conda-env-MethodsCourse-py"
  },
  "language_info": {
   "codemirror_mode": {
    "name": "ipython",
    "version": 3
   },
   "file_extension": ".py",
   "mimetype": "text/x-python",
   "name": "python",
   "nbconvert_exporter": "python",
   "pygments_lexer": "ipython3",
   "version": "3.6.6"
  }
 },
 "nbformat": 4,
 "nbformat_minor": 5
}
