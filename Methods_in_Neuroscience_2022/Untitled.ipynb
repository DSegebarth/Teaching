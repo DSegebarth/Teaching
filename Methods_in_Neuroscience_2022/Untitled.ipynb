{
 "cells": [
  {
   "cell_type": "code",
   "execution_count": 1,
   "id": "7b8deeab-d734-4c7a-bdea-f9cb5efcd969",
   "metadata": {},
   "outputs": [],
   "source": [
    "from methodscourse.gui import launch_gui"
   ]
  },
  {
   "cell_type": "code",
   "execution_count": 2,
   "id": "6939c6b9-3df5-4606-86c6-3caebff888e2",
   "metadata": {},
   "outputs": [
    {
     "data": {
      "application/vnd.jupyter.widget-view+json": {
       "model_id": "02f52644beeb44cca2ac15b2e38edc3e",
       "version_major": 2,
       "version_minor": 0
      },
      "text/plain": [
       "VBox(children=(Label(value='Please specify the root directory for this experiment:'), HBox(children=(FileChoos…"
      ]
     },
     "metadata": {},
     "output_type": "display_data"
    }
   ],
   "source": [
    "launch_gui()"
   ]
  },
  {
   "cell_type": "code",
   "execution_count": null,
   "id": "33e3197b-b190-44ee-91eb-7f3239f43386",
   "metadata": {},
   "outputs": [],
   "source": []
  }
 ],
 "metadata": {
  "kernelspec": {
   "display_name": "Python 3 (ipykernel)",
   "language": "python",
   "name": "python3"
  },
  "language_info": {
   "codemirror_mode": {
    "name": "ipython",
    "version": 3
   },
   "file_extension": ".py",
   "mimetype": "text/x-python",
   "name": "python",
   "nbconvert_exporter": "python",
   "pygments_lexer": "ipython3",
   "version": "3.9.7"
  }
 },
 "nbformat": 4,
 "nbformat_minor": 5
}
