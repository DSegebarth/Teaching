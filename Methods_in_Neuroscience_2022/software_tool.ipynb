{
 "cells": [
  {
   "cell_type": "code",
   "execution_count": null,
   "id": "7b8deeab-d734-4c7a-bdea-f9cb5efcd969",
   "metadata": {},
   "outputs": [],
   "source": [
    "from methodscourse.gui import launch_gui"
   ]
  },
  {
   "cell_type": "code",
   "execution_count": null,
   "id": "6939c6b9-3df5-4606-86c6-3caebff888e2",
   "metadata": {},
   "outputs": [],
   "source": [
    "launch_gui()"
   ]
  }
 ],
 "metadata": {
  "kernelspec": {
   "display_name": "Python 3 (ipykernel)",
   "language": "python",
   "name": "python3"
  },
  "language_info": {
   "codemirror_mode": {
    "name": "ipython",
    "version": 3
   },
   "file_extension": ".py",
   "mimetype": "text/x-python",
   "name": "python",
   "nbconvert_exporter": "python",
   "pygments_lexer": "ipython3",
   "version": "3.9.7"
  }
 },
 "nbformat": 4,
 "nbformat_minor": 5
}
