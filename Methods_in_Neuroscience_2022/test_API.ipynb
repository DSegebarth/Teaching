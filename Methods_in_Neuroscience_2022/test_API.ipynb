{
 "cells": [
  {
   "cell_type": "code",
   "execution_count": null,
   "id": "d11fb511",
   "metadata": {},
   "outputs": [],
   "source": [
    "from methodscourse.api import API"
   ]
  },
  {
   "cell_type": "code",
   "execution_count": null,
   "id": "1c492e7b",
   "metadata": {
    "tags": []
   },
   "outputs": [],
   "source": [
    "api = API(root_dir = '/mnt/c/Users/dsege/OneDrive/Desktop/MethodsCourse/')"
   ]
  },
  {
   "cell_type": "code",
   "execution_count": null,
   "id": "02bbb118-6fbd-47b3-b939-4abbf16f4703",
   "metadata": {},
   "outputs": [],
   "source": [
    "api.load_results()"
   ]
  },
  {
   "cell_type": "code",
   "execution_count": null,
   "id": "44cf31ca-2376-4ff2-bb51-7e4f50c63c12",
   "metadata": {},
   "outputs": [],
   "source": [
    "file_ids = [filename[:4] for filename in api.database.files]"
   ]
  },
  {
   "cell_type": "code",
   "execution_count": null,
   "id": "c39b1292-51eb-4c24-8328-21ea9d6c3fc2",
   "metadata": {},
   "outputs": [],
   "source": [
    "api.detect_flies(file_ids = file_ids, threshold = 0.2)"
   ]
  },
  {
   "cell_type": "code",
   "execution_count": null,
   "id": "44b74a14-916a-4f84-9eb1-cf7a09890254",
   "metadata": {},
   "outputs": [],
   "source": [
    "api.plot_results(save=True)"
   ]
  }
 ],
 "metadata": {
  "kernelspec": {
   "display_name": "Python 3 (ipykernel)",
   "language": "python",
   "name": "python3"
  },
  "language_info": {
   "codemirror_mode": {
    "name": "ipython",
    "version": 3
   },
   "file_extension": ".py",
   "mimetype": "text/x-python",
   "name": "python",
   "nbconvert_exporter": "python",
   "pygments_lexer": "ipython3",
   "version": "3.9.7"
  }
 },
 "nbformat": 4,
 "nbformat_minor": 5
}
