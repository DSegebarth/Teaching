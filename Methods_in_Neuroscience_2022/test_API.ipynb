{
 "cells": [
  {
   "cell_type": "code",
   "execution_count": 1,
   "id": "b16b493d",
   "metadata": {},
   "outputs": [],
   "source": [
    "from methodscourse.api import API\n",
    "import os"
   ]
  },
  {
   "cell_type": "markdown",
   "id": "a74f01e4",
   "metadata": {},
   "source": [
    "# Remember to adapt vial postprocessing in stats (optional for default / new data)"
   ]
  },
  {
   "cell_type": "code",
   "execution_count": 2,
   "id": "e2a95287",
   "metadata": {},
   "outputs": [],
   "source": [
    "if os.path.isdir('/home/pi/Desktop/MethodsCourse2/'):\n",
    "    root_dir = '/home/pi/Desktop/MethodsCourse2/'\n",
    "else:\n",
    "    root_dir = '/mnt/c/Users/dsege/OneDrive/Desktop/MethodsCourse/'"
   ]
  },
  {
   "cell_type": "code",
   "execution_count": null,
   "id": "8f8b8916",
   "metadata": {
    "tags": []
   },
   "outputs": [],
   "source": [
    "api = API(root_dir = root_dir)"
   ]
  },
  {
   "cell_type": "code",
   "execution_count": 5,
   "id": "79a5103d",
   "metadata": {},
   "outputs": [],
   "source": [
    "api.record_experiment(group_id = 'wt', vial_id = 0, stimulus_indicator = 'post')"
   ]
  },
  {
   "cell_type": "code",
   "execution_count": null,
   "id": "7d4c35c9",
   "metadata": {},
   "outputs": [],
   "source": [
    "api.load_results()"
   ]
  },
  {
   "cell_type": "code",
   "execution_count": null,
   "id": "64ed435a",
   "metadata": {},
   "outputs": [],
   "source": [
    "file_ids = [filename[:4] for filename in api.database.files]"
   ]
  },
  {
   "cell_type": "code",
   "execution_count": 11,
   "id": "64bcdb56",
   "metadata": {},
   "outputs": [],
   "source": [
    "api.detect_flies(file_ids = ['0000'], threshold = 0.2, quick_view=True)"
   ]
  },
  {
   "cell_type": "code",
   "execution_count": 13,
   "id": "fdf9c9d1",
   "metadata": {},
   "outputs": [
    {
     "ename": "TypeError",
     "evalue": "'NoneType' object is not subscriptable",
     "output_type": "error",
     "traceback": [
      "\u001b[0;31m---------------------------------------------------------------------------\u001b[0m",
      "\u001b[0;31mTypeError\u001b[0m                                 Traceback (most recent call last)",
      "\u001b[0;32m<ipython-input-13-110fcaf18c4c>\u001b[0m in \u001b[0;36m<module>\u001b[0;34m()\u001b[0m\n\u001b[0;32m----> 1\u001b[0;31m \u001b[0mapi\u001b[0m\u001b[0;34m.\u001b[0m\u001b[0minspect_detection_quality\u001b[0m\u001b[0;34m(\u001b[0m\u001b[0mindex\u001b[0m\u001b[0;34m=\u001b[0m\u001b[0;34m'0001'\u001b[0m\u001b[0;34m)\u001b[0m\u001b[0;34m\u001b[0m\u001b[0m\n\u001b[0m",
      "\u001b[0;32m~/Desktop/Teaching/Methods_in_Neuroscience_2022/methodscourse/api.py\u001b[0m in \u001b[0;36minspect_detection_quality\u001b[0;34m(self, index, file_id, time_passed)\u001b[0m\n\u001b[1;32m     49\u001b[0m \u001b[0;34m\u001b[0m\u001b[0m\n\u001b[1;32m     50\u001b[0m         \u001b[0minspect_detected_flies\u001b[0m \u001b[0;34m=\u001b[0m \u001b[0mInspectDetectedFlies\u001b[0m\u001b[0;34m(\u001b[0m\u001b[0mindex\u001b[0m \u001b[0;34m=\u001b[0m \u001b[0mself\u001b[0m\u001b[0;34m.\u001b[0m\u001b[0mindex\u001b[0m\u001b[0;34m,\u001b[0m \u001b[0mdatabase\u001b[0m \u001b[0;34m=\u001b[0m \u001b[0mself\u001b[0m\u001b[0;34m.\u001b[0m\u001b[0mdatabase\u001b[0m\u001b[0;34m)\u001b[0m\u001b[0;34m\u001b[0m\u001b[0m\n\u001b[0;32m---> 51\u001b[0;31m         \u001b[0minspect_detected_flies\u001b[0m\u001b[0;34m.\u001b[0m\u001b[0mplot_results\u001b[0m\u001b[0;34m(\u001b[0m\u001b[0;34m)\u001b[0m\u001b[0;34m\u001b[0m\u001b[0m\n\u001b[0m\u001b[1;32m     52\u001b[0m \u001b[0;34m\u001b[0m\u001b[0m\n\u001b[1;32m     53\u001b[0m \u001b[0;34m\u001b[0m\u001b[0m\n",
      "\u001b[0;32m~/Desktop/Teaching/Methods_in_Neuroscience_2022/methodscourse/analysis.py\u001b[0m in \u001b[0;36mplot_results\u001b[0;34m(self)\u001b[0m\n\u001b[1;32m    175\u001b[0m         \u001b[0mreader\u001b[0m\u001b[0;34m.\u001b[0m\u001b[0mclose\u001b[0m\u001b[0;34m(\u001b[0m\u001b[0;34m)\u001b[0m\u001b[0;34m\u001b[0m\u001b[0m\n\u001b[1;32m    176\u001b[0m \u001b[0;34m\u001b[0m\u001b[0m\n\u001b[0;32m--> 177\u001b[0;31m         \u001b[0mvial\u001b[0m \u001b[0;34m=\u001b[0m \u001b[0mimage\u001b[0m\u001b[0;34m[\u001b[0m\u001b[0;36m200\u001b[0m\u001b[0;34m:\u001b[0m\u001b[0;36m1000\u001b[0m\u001b[0;34m,\u001b[0m \u001b[0mvial_cropping_coords\u001b[0m\u001b[0;34m[\u001b[0m\u001b[0;36m0\u001b[0m\u001b[0;34m]\u001b[0m \u001b[0;34m-\u001b[0m \u001b[0;36m100\u001b[0m \u001b[0;34m:\u001b[0m \u001b[0mvial_cropping_coords\u001b[0m\u001b[0;34m[\u001b[0m\u001b[0;36m1\u001b[0m\u001b[0;34m]\u001b[0m \u001b[0;34m+\u001b[0m \u001b[0;36m100\u001b[0m\u001b[0;34m]\u001b[0m\u001b[0;34m\u001b[0m\u001b[0m\n\u001b[0m\u001b[1;32m    178\u001b[0m \u001b[0;34m\u001b[0m\u001b[0m\n\u001b[1;32m    179\u001b[0m         \u001b[0mfig\u001b[0m\u001b[0;34m,\u001b[0m \u001b[0;34m(\u001b[0m\u001b[0max1\u001b[0m\u001b[0;34m,\u001b[0m \u001b[0max2\u001b[0m\u001b[0;34m)\u001b[0m \u001b[0;34m=\u001b[0m \u001b[0mplt\u001b[0m\u001b[0;34m.\u001b[0m\u001b[0msubplots\u001b[0m\u001b[0;34m(\u001b[0m\u001b[0;36m1\u001b[0m\u001b[0;34m,\u001b[0m \u001b[0;36m2\u001b[0m\u001b[0;34m,\u001b[0m \u001b[0mfigsize\u001b[0m\u001b[0;34m=\u001b[0m\u001b[0;34m(\u001b[0m\u001b[0;36m15\u001b[0m\u001b[0;34m,\u001b[0m\u001b[0;36m15\u001b[0m\u001b[0;34m)\u001b[0m\u001b[0;34m)\u001b[0m\u001b[0;34m\u001b[0m\u001b[0m\n",
      "\u001b[0;31mTypeError\u001b[0m: 'NoneType' object is not subscriptable"
     ]
    }
   ],
   "source": [
    "api.inspect_detection_quality(index='0001')"
   ]
  },
  {
   "cell_type": "code",
   "execution_count": 14,
   "id": "4667a01c",
   "metadata": {},
   "outputs": [],
   "source": [
    "api.save_results(prefix = 'Pi_')"
   ]
  },
  {
   "cell_type": "code",
   "execution_count": null,
   "id": "0fd09906",
   "metadata": {},
   "outputs": [],
   "source": [
    "api.plot_results(save=True)"
   ]
  },
  {
   "cell_type": "code",
   "execution_count": 6,
   "id": "77ef04bb",
   "metadata": {},
   "outputs": [],
   "source": [
    "import ipywidgets as w"
   ]
  },
  {
   "cell_type": "code",
   "execution_count": null,
   "id": "e58a894a",
   "metadata": {},
   "outputs": [],
   "source": []
  }
 ],
 "metadata": {
  "kernelspec": {
   "display_name": "Python 3",
   "language": "python",
   "name": "python3"
  },
  "language_info": {
   "codemirror_mode": {
    "name": "ipython",
    "version": 3
   },
   "file_extension": ".py",
   "mimetype": "text/x-python",
   "name": "python",
   "nbconvert_exporter": "python",
   "pygments_lexer": "ipython3",
   "version": "3.6.6"
  }
 },
 "nbformat": 4,
 "nbformat_minor": 5
}
